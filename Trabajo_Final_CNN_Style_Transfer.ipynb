{
  "nbformat": 4,
  "nbformat_minor": 0,
  "metadata": {
    "colab": {
      "name": "Trabajo Final CNN - Style Transfer.ipynb",
      "provenance": [],
      "collapsed_sections": [],
      "toc_visible": true
    },
    "kernelspec": {
      "name": "python3",
      "display_name": "Python 3"
    },
    "accelerator": "GPU"
  },
  "cells": [
    {
      "cell_type": "markdown",
      "metadata": {
        "id": "qCY6UbkkI9_N",
        "colab_type": "text"
      },
      "source": [
        "# Style Transfer\n",
        "\n",
        "<img src=\"https://i0.wp.com/chelseatroy.com/wp-content/uploads/2018/12/neural_style_transfer.png?resize=768%2C311&ssl=1\">\n",
        "\n",
        "La idea de este trabajo final es reproducir el siguiente paper:\n",
        "\n",
        "https://arxiv.org/pdf/1508.06576.pdf\n",
        "\n",
        "El objetivo es transferir el estilo de una imagen dada a otra imagen distinta. \n",
        "\n",
        "Como hemos visto en clase, las primeras capas de una red convolucional se activan ante la presencia de ciertos patrones vinculados a detalles muy pequeños.\n",
        "\n",
        "A medida que avanzamos en las distintas capas de una red neuronal convolucional, los filtros se van activando a medida que detectan patrones de formas cada vez mas complejos.\n",
        "\n",
        "Lo que propone este paper es asignarle a la activación de las primeras capas de una red neuronal convolucional (por ejemplo VGG19) la definición del estilo y a la activación de las últimas capas de la red neuronal convolucional, la definición del contenido.\n",
        "\n",
        "La idea de este paper es, a partir de dos imágenes (una que aporte el estilo y otra que aporte el contenido) analizar cómo es la activación de las primeras capas para la imagen que aporta el estilo y cómo es la activación de las últimas capas de la red convolucional para la imagen que aporta el contenido. A partir de esto se intentará sintetizar una imagen que active los filtros de las primeras capas que se activaron con la imagen que aporta el estilo y los filtros de las últimas capas que se activaron con la imagen que aporta el contenido.\n",
        "\n",
        "A este procedimiento se lo denomina neural style transfer.\n",
        "\n",
        "# En este trabajo se deberá leer el paper mencionado y en base a ello, entender la implementación que se muestra a continuación y contestar preguntas sobre la misma.\n",
        "\n",
        "# Una metodología posible es hacer una lectura rápida del paper (aunque esto signifique no entender algunos detalles del mismo) y luego ir analizando el código y respondiendo las preguntas. A medida que se planteen las preguntas, volviendo a leer secciones específicas del paper terminará de entender los detalles que pudieran haber quedado pendientes.\n",
        "\n",
        "Lo primero que haremos es cargar dos imágenes, una que aporte el estilo y otra que aporte el contenido. A tal fin utilizaremos imágenes disponibles en la web."
      ]
    },
    {
      "cell_type": "code",
      "metadata": {
        "id": "9aaGNryBl66E",
        "colab_type": "code",
        "colab": {}
      },
      "source": [
        "#Fix para utilizar version legacy de Tensorflow 1.x\n",
        "%tensorflow_version 1.x"
      ],
      "execution_count": 0,
      "outputs": []
    },
    {
      "cell_type": "code",
      "metadata": {
        "id": "kyHsa2t0SxZi",
        "colab_type": "code",
        "outputId": "5f9dd34c-f48a-433d-d583-ba5a54cc35bd",
        "colab": {
          "base_uri": "https://localhost:8080/",
          "height": 462
        }
      },
      "source": [
        "# Imagen para estilo\n",
        "#!wget https://upload.wikimedia.org/wikipedia/commons/5/52/La_noche_estrellada1.jpg\n",
        "#!wget https://upload.wikimedia.org/wikipedia/en/1/14/Picasso_The_Weeping_Woman_Tate_identifier_T05010_10.jpg\n",
        "#!wget https://radiococoa.com/RC/wp-content/uploads/mediterraneo-1024x856.jpg\n",
        "!wget https://upload.wikimedia.org/wikipedia/commons/thumb/9/94/The_Nightwatch_by_Rembrandt_-_Rijksmuseum.jpg/737px-The_Nightwatch_by_Rembrandt_-_Rijksmuseum.jpg\n",
        "# Imagen para contenido\n",
        "#!wget https://upload.wikimedia.org/wikipedia/commons/thumb/f/f4/Neckarfront_T%C3%BCbingen_Mai_2017.jpg/775px-Neckarfront_T%C3%BCbingen_Mai_2017.jpg\n",
        "#!wget https://learnodo-newtonic.com/wp-content/uploads/2017/12/The-Hay-Wain-1821-John-Constable.jpg\n",
        "#!wget https://ec.europa.eu/eurostat/documents/4187653/10321591/Peteri_shutterstock_611156066_cp.jpg\n",
        "#!wget https://www.costacruceros.es/content/dam/costa/inventory-assets/ports/DBV/24-DUBROVNIK_2880x1536.jpg.image.750.563.low.jpg\n",
        "!wget https://cg1.cgsociety.org/uploads/images/medium/venushin-the-two-towers-night--48bcd651-w1aj.jpg\n",
        "# Creamos el directorio para los archivos de salida\n",
        "!mkdir /content/output"
      ],
      "execution_count": 25,
      "outputs": [
        {
          "output_type": "stream",
          "text": [
            "--2020-05-06 23:35:38--  https://upload.wikimedia.org/wikipedia/commons/thumb/9/94/The_Nightwatch_by_Rembrandt_-_Rijksmuseum.jpg/737px-The_Nightwatch_by_Rembrandt_-_Rijksmuseum.jpg\n",
            "Resolving upload.wikimedia.org (upload.wikimedia.org)... 91.198.174.208, 2620:0:862:ed1a::2:b\n",
            "Connecting to upload.wikimedia.org (upload.wikimedia.org)|91.198.174.208|:443... connected.\n",
            "HTTP request sent, awaiting response... 200 OK\n",
            "Length: 111310 (109K) [image/jpeg]\n",
            "Saving to: ‘737px-The_Nightwatch_by_Rembrandt_-_Rijksmuseum.jpg.1’\n",
            "\n",
            "\r          737px-The   0%[                    ]       0  --.-KB/s               \r737px-The_Nightwatc 100%[===================>] 108.70K  --.-KB/s    in 0.01s   \n",
            "\n",
            "2020-05-06 23:35:38 (8.20 MB/s) - ‘737px-The_Nightwatch_by_Rembrandt_-_Rijksmuseum.jpg.1’ saved [111310/111310]\n",
            "\n",
            "--2020-05-06 23:35:42--  https://cg1.cgsociety.org/uploads/images/medium/venushin-the-two-towers-night--48bcd651-w1aj.jpg\n",
            "Resolving cg1.cgsociety.org (cg1.cgsociety.org)... 35.227.221.53\n",
            "Connecting to cg1.cgsociety.org (cg1.cgsociety.org)|35.227.221.53|:443... connected.\n",
            "HTTP request sent, awaiting response... 200 OK\n",
            "Length: 257839 (252K) [image/jpeg]\n",
            "Saving to: ‘venushin-the-two-towers-night--48bcd651-w1aj.jpg.1’\n",
            "\n",
            "venushin-the-two-to 100%[===================>] 251.80K  --.-KB/s    in 0.002s  \n",
            "\n",
            "2020-05-06 23:35:42 (133 MB/s) - ‘venushin-the-two-towers-night--48bcd651-w1aj.jpg.1’ saved [257839/257839]\n",
            "\n",
            "mkdir: cannot create directory ‘/content/output’: File exists\n"
          ],
          "name": "stdout"
        }
      ]
    },
    {
      "cell_type": "code",
      "metadata": {
        "id": "NIxH20o2eFoc",
        "colab_type": "code",
        "colab": {}
      },
      "source": [
        "from keras.preprocessing.image import load_img, save_img, img_to_array\n",
        "import numpy as np\n",
        "from scipy.optimize import fmin_l_bfgs_b\n",
        "import time\n",
        "import argparse\n",
        "\n",
        "from keras.applications import vgg19\n",
        "from keras import backend as K\n",
        "from pathlib import Path"
      ],
      "execution_count": 0,
      "outputs": []
    },
    {
      "cell_type": "code",
      "metadata": {
        "id": "iLkV1bnFl_tK",
        "colab_type": "code",
        "colab": {}
      },
      "source": [
        "# Definimos las imagenes que vamos a utilizar, y el directorio de salida\n",
        "\n",
        "#base_image_path = Path(\"/content/775px-Neckarfront_Tübingen_Mai_2017.jpg\")\n",
        "#base_image_path = Path(\"The-Hay-Wain-1821-John-Constable.jpg\")\n",
        "#base_image_path = Path(\"Peteri_shutterstock_611156066_cp.jpg\")\n",
        "#base_image_path = Path(\"24-DUBROVNIK_2880x1536.jpg.image.750.563.low.jpg\")\n",
        "base_image_path = Path(\"venushin-the-two-towers-night--48bcd651-w1aj.jpg\")\n",
        "#style_reference_image_path = Path(\"/content/La_noche_estrellada1.jpg\")\n",
        "#style_reference_image_path = Path(\"mediterraneo-1024x856.jpg\")\n",
        "style_reference_image_path = Path(\"737px-The_Nightwatch_by_Rembrandt_-_Rijksmuseum.jpg\")\n",
        "result_prefix = Path(\"/content/output\")\n",
        "iterations = 75"
      ],
      "execution_count": 0,
      "outputs": []
    },
    {
      "cell_type": "markdown",
      "metadata": {
        "id": "Gz2PeGfpeYzj",
        "colab_type": "text"
      },
      "source": [
        "# 1) En base a lo visto en el paper ¿Qué significan los parámetros definidos en la siguiente celda?\n",
        "\n",
        "Respuesta:\n"
      ]
    },
    {
      "cell_type": "code",
      "metadata": {
        "id": "P9Dt3aaEmJWS",
        "colab_type": "code",
        "colab": {}
      },
      "source": [
        "#Default values: total_variation 0.1 style 10 content 1\n",
        "total_variation_weight = 0.5\n",
        "style_weight = 1000\n",
        "content_weight = 1"
      ],
      "execution_count": 0,
      "outputs": []
    },
    {
      "cell_type": "markdown",
      "metadata": {
        "id": "vaMVcb7l4twH",
        "colab_type": "text"
      },
      "source": [
        "Total variation weight: es un hiperparametro que ajusta el termino de la loss correpondiente a variacion total.  En este caso es un 10% del valor.  \n",
        "Style weight y Content weight: son hiperparametros que ajustan la contribucion del estilo y contenido.  La relacion es 1/10 es decir 1 x e-1.  En el paper figuran como beta y alfa respectivamente."
      ]
    },
    {
      "cell_type": "code",
      "metadata": {
        "id": "CQQJOhCVuse6",
        "colab_type": "code",
        "outputId": "111c8f87-61fa-4d68-8674-a0bd9880efab",
        "colab": {
          "base_uri": "https://localhost:8080/",
          "height": 35
        }
      },
      "source": [
        "# Definimos el tamaño de las imágenes a utilizar\n",
        "width, height = load_img(base_image_path).size\n",
        "img_nrows = 400\n",
        "img_ncols = int(width * img_nrows / height)\n",
        "print(img_ncols,img_nrows,img_ncols/img_nrows)"
      ],
      "execution_count": 29,
      "outputs": [
        {
          "output_type": "stream",
          "text": [
            "680 400 1.7\n"
          ],
          "name": "stdout"
        }
      ]
    },
    {
      "cell_type": "markdown",
      "metadata": {
        "id": "gg2ct-8agm1E",
        "colab_type": "text"
      },
      "source": [
        "# 2) Explicar qué hace la siguiente celda. En especial las últimas dos líneas de la función antes del return. ¿Por qué?\n",
        "\n",
        "Ayuda: https://keras.io/applications/\n",
        "\n",
        "Respuesta:"
      ]
    },
    {
      "cell_type": "code",
      "metadata": {
        "id": "tAkljg4zuzYd",
        "colab_type": "code",
        "colab": {}
      },
      "source": [
        "def preprocess_image(image_path):\n",
        "    img = load_img(image_path, target_size=(img_nrows, img_ncols))\n",
        "    img = img_to_array(img)\n",
        "    img = np.expand_dims(img, axis=0)\n",
        "    img = vgg19.preprocess_input(img)\n",
        "    return img"
      ],
      "execution_count": 0,
      "outputs": []
    },
    {
      "cell_type": "markdown",
      "metadata": {
        "id": "ZHDpskbWHtzh",
        "colab_type": "text"
      },
      "source": [
        "Las primeras 2 lineas cargan la imagen y la convierten a un vector numpy de 3 dimensiones (height, width, channels).  Los canales están representados por un float32 que usualmente contiene 24 bits de informacion 3 canales x 8 bits.\n",
        "El expand_dims agrega una dimension al comienzo del array que representa la cantidad de imagenes (similar al batch size) en este caso 1.\n",
        "Finalmente el preprocess_input hace las modificaciones (normalizacion, etc.) para que la red la acepte."
      ]
    },
    {
      "cell_type": "markdown",
      "metadata": {
        "id": "KTf0YDSagt10",
        "colab_type": "text"
      },
      "source": [
        "# 3) Habiendo comprendido lo que hace la celda anterior, explique de manera muy concisa qué hace la siguiente celda. ¿Qué relación tiene con la celda anterior?\n",
        "\n",
        "Respuesta:"
      ]
    },
    {
      "cell_type": "markdown",
      "metadata": {
        "id": "aa6JwpM3pOBU",
        "colab_type": "text"
      },
      "source": [
        "Primero le hace un reshape a 3 dimensiones (filas, columnas, canales).\n",
        "Luego le suma un valor promedio a cada canal (0 es B, 1 es G y 2 es R)\n",
        "A continuacion se acomodan la dimension de los canales invirtiendo el orden (queda el rojo primero, luego el verde y el azul al final).\n",
        "Finalmente el clip acota los valores a un mínimo de 0 y un maximo de 255, casteando el resultado a un unsigned int de 8 bits."
      ]
    },
    {
      "cell_type": "code",
      "metadata": {
        "id": "y5LaTrsAu14z",
        "colab_type": "code",
        "colab": {}
      },
      "source": [
        "def deprocess_image(x):\n",
        "    x = x.reshape((img_nrows, img_ncols, 3))\n",
        "    # Remove zero-center by mean pixel\n",
        "    x[:, :, 0] += 103.939\n",
        "    x[:, :, 1] += 116.779\n",
        "    x[:, :, 2] += 123.68\n",
        "    # 'BGR'->'RGB'\n",
        "    x = x[:, :, ::-1]\n",
        "    x = np.clip(x, 0, 255).astype('uint8')\n",
        "    return x"
      ],
      "execution_count": 0,
      "outputs": []
    },
    {
      "cell_type": "code",
      "metadata": {
        "id": "HYNio09mu4S3",
        "colab_type": "code",
        "colab": {}
      },
      "source": [
        "# get tensor representations of our images\n",
        "# K.variable convierte un numpy array en un tensor, para \n",
        "base_image = K.variable(preprocess_image(base_image_path))\n",
        "style_reference_image = K.variable(preprocess_image(style_reference_image_path))"
      ],
      "execution_count": 0,
      "outputs": []
    },
    {
      "cell_type": "code",
      "metadata": {
        "id": "a1Lbw02Uu--o",
        "colab_type": "code",
        "colab": {}
      },
      "source": [
        "combination_image = K.placeholder((1, img_nrows, img_ncols, 3))"
      ],
      "execution_count": 0,
      "outputs": []
    },
    {
      "cell_type": "markdown",
      "metadata": {
        "id": "RJEi0YI3Uzrm",
        "colab_type": "text"
      },
      "source": [
        "Aclaración:\n",
        "\n",
        "La siguiente celda sirve para procesar las tres imagenes (contenido, estilo y salida) en un solo batch."
      ]
    },
    {
      "cell_type": "code",
      "metadata": {
        "id": "gGO_jGFfvEbF",
        "colab_type": "code",
        "colab": {}
      },
      "source": [
        "# combine the 3 images into a single Keras tensor\n",
        "input_tensor = K.concatenate([base_image,\n",
        "                              style_reference_image,\n",
        "                              combination_image], axis=0)"
      ],
      "execution_count": 0,
      "outputs": []
    },
    {
      "cell_type": "code",
      "metadata": {
        "id": "tdG59VRavHGB",
        "colab_type": "code",
        "outputId": "f657c6a7-e35f-4ae7-89c9-cbe2cee791a8",
        "colab": {
          "base_uri": "https://localhost:8080/",
          "height": 35
        }
      },
      "source": [
        "# build the VGG19 network with our 3 images as input\n",
        "# the model will be loaded with pre-trained ImageNet weights\n",
        "model = vgg19.VGG19(input_tensor=input_tensor,\n",
        "                    weights='imagenet', include_top=False)\n",
        "print('Model loaded.')\n",
        "\n",
        "# get the symbolic outputs of each \"key\" layer (we gave them unique names).\n",
        "outputs_dict = dict([(layer.name, layer.output) for layer in model.layers])"
      ],
      "execution_count": 35,
      "outputs": [
        {
          "output_type": "stream",
          "text": [
            "Model loaded.\n"
          ],
          "name": "stdout"
        }
      ]
    },
    {
      "cell_type": "code",
      "metadata": {
        "id": "4ar7n-q1HG05",
        "colab_type": "code",
        "outputId": "dcbd20d6-7dca-44d7-b74e-0f55b259e7ab",
        "colab": {
          "base_uri": "https://localhost:8080/",
          "height": 1000
        }
      },
      "source": [
        "print(outputs_dict['block1_conv1'])\n",
        "print(outputs_dict['block2_conv1'])\n",
        "model.summary()"
      ],
      "execution_count": 36,
      "outputs": [
        {
          "output_type": "stream",
          "text": [
            "Tensor(\"block1_conv1_1/Relu:0\", shape=(3, 400, 680, 64), dtype=float32)\n",
            "Tensor(\"block2_conv1_1/Relu:0\", shape=(3, 200, 340, 128), dtype=float32)\n",
            "Model: \"vgg19\"\n",
            "_________________________________________________________________\n",
            "Layer (type)                 Output Shape              Param #   \n",
            "=================================================================\n",
            "input_2 (InputLayer)         (None, None, None, 3)     0         \n",
            "_________________________________________________________________\n",
            "block1_conv1 (Conv2D)        (None, None, None, 64)    1792      \n",
            "_________________________________________________________________\n",
            "block1_conv2 (Conv2D)        (None, None, None, 64)    36928     \n",
            "_________________________________________________________________\n",
            "block1_pool (MaxPooling2D)   (None, None, None, 64)    0         \n",
            "_________________________________________________________________\n",
            "block2_conv1 (Conv2D)        (None, None, None, 128)   73856     \n",
            "_________________________________________________________________\n",
            "block2_conv2 (Conv2D)        (None, None, None, 128)   147584    \n",
            "_________________________________________________________________\n",
            "block2_pool (MaxPooling2D)   (None, None, None, 128)   0         \n",
            "_________________________________________________________________\n",
            "block3_conv1 (Conv2D)        (None, None, None, 256)   295168    \n",
            "_________________________________________________________________\n",
            "block3_conv2 (Conv2D)        (None, None, None, 256)   590080    \n",
            "_________________________________________________________________\n",
            "block3_conv3 (Conv2D)        (None, None, None, 256)   590080    \n",
            "_________________________________________________________________\n",
            "block3_conv4 (Conv2D)        (None, None, None, 256)   590080    \n",
            "_________________________________________________________________\n",
            "block3_pool (MaxPooling2D)   (None, None, None, 256)   0         \n",
            "_________________________________________________________________\n",
            "block4_conv1 (Conv2D)        (None, None, None, 512)   1180160   \n",
            "_________________________________________________________________\n",
            "block4_conv2 (Conv2D)        (None, None, None, 512)   2359808   \n",
            "_________________________________________________________________\n",
            "block4_conv3 (Conv2D)        (None, None, None, 512)   2359808   \n",
            "_________________________________________________________________\n",
            "block4_conv4 (Conv2D)        (None, None, None, 512)   2359808   \n",
            "_________________________________________________________________\n",
            "block4_pool (MaxPooling2D)   (None, None, None, 512)   0         \n",
            "_________________________________________________________________\n",
            "block5_conv1 (Conv2D)        (None, None, None, 512)   2359808   \n",
            "_________________________________________________________________\n",
            "block5_conv2 (Conv2D)        (None, None, None, 512)   2359808   \n",
            "_________________________________________________________________\n",
            "block5_conv3 (Conv2D)        (None, None, None, 512)   2359808   \n",
            "_________________________________________________________________\n",
            "block5_conv4 (Conv2D)        (None, None, None, 512)   2359808   \n",
            "_________________________________________________________________\n",
            "block5_pool (MaxPooling2D)   (None, None, None, 512)   0         \n",
            "=================================================================\n",
            "Total params: 20,024,384\n",
            "Trainable params: 20,024,384\n",
            "Non-trainable params: 0\n",
            "_________________________________________________________________\n"
          ],
          "name": "stdout"
        }
      ]
    },
    {
      "cell_type": "markdown",
      "metadata": {
        "id": "70-vs_jZkKVc",
        "colab_type": "text"
      },
      "source": [
        "# 4) En la siguientes celdas:\n",
        "\n",
        "- ¿Qué es la matriz de Gram?¿Para qué se usa?\n",
        "- ¿Por qué se permutan las dimensiones de x?"
      ]
    },
    {
      "cell_type": "markdown",
      "metadata": {
        "id": "GTaDAfk-sEl1",
        "colab_type": "text"
      },
      "source": [
        "La matrix de Gram contiene las correlaciones entre los filtros de una determinada capa. Se calcula como el producto interno de cada una de las matrices del filtro (width x height) por su matriz traspuesta.\n",
        "\n",
        "Se permutan las dimensiones para que el batch_flatten afecte a width y height y no a los filtros.  De esta manera se obtiene un vector de 2d con los filtros como primera dimensión y (width x height) como segunda dimensión."
      ]
    },
    {
      "cell_type": "code",
      "metadata": {
        "id": "K1FODPATvJ1k",
        "colab_type": "code",
        "colab": {}
      },
      "source": [
        "def gram_matrix(x):\n",
        "    features = K.batch_flatten(K.permute_dimensions(x, (2, 0, 1)))\n",
        "    gram = K.dot(features, K.transpose(features))\n",
        "    return gram"
      ],
      "execution_count": 0,
      "outputs": []
    },
    {
      "cell_type": "markdown",
      "metadata": {
        "id": "vBQkKFY0Rbx-",
        "colab_type": "text"
      },
      "source": [
        "# 5) Losses:\n",
        "\n",
        "Explicar qué mide cada una de las losses en las siguientes tres celdas.\n",
        "\n",
        "Rta:"
      ]
    },
    {
      "cell_type": "markdown",
      "metadata": {
        "id": "2J6H4KU0Btfx",
        "colab_type": "text"
      },
      "source": [
        "La style_loss mide, a grandes rasgos, la sumatoria del cuadrado de las diferencias entre la matriz Gram de la imagen generada y matrix Gram de la imagen de estilo de referencia.\n",
        "\n",
        "La content_loss mide la sumatoria del cuadrado de las diferencias entre los pesos (activaciones) de la imagen generada y la imagen base.\n",
        "\n",
        "La total variation loss mide la diferencia cuadrada entre pixeles vecinos de la imagen generada (a se desplaza por filas y b por columnas).  Es una forma de medir el ruido en la imagen generada."
      ]
    },
    {
      "cell_type": "code",
      "metadata": {
        "id": "1-Gt0ahWvN6q",
        "colab_type": "code",
        "colab": {}
      },
      "source": [
        "def style_loss(style, combination):\n",
        "    assert K.ndim(style) == 3\n",
        "    assert K.ndim(combination) == 3\n",
        "    S = gram_matrix(style)\n",
        "    C = gram_matrix(combination)\n",
        "    channels = 3\n",
        "    size = img_nrows * img_ncols\n",
        "    return K.sum(K.square(S - C)) / (4.0 * (channels ** 2) * (size ** 2))"
      ],
      "execution_count": 0,
      "outputs": []
    },
    {
      "cell_type": "code",
      "metadata": {
        "id": "XCqnju5RvQCo",
        "colab_type": "code",
        "colab": {}
      },
      "source": [
        "def content_loss(base, combination):\n",
        "    return K.sum(K.square(combination - base))\n"
      ],
      "execution_count": 0,
      "outputs": []
    },
    {
      "cell_type": "code",
      "metadata": {
        "id": "udEp5h31vRnY",
        "colab_type": "code",
        "colab": {}
      },
      "source": [
        "def total_variation_loss(x):\n",
        "    assert K.ndim(x) == 4\n",
        "    a = K.square(\n",
        "        x[:, :img_nrows - 1, :img_ncols - 1, :] - x[:, 1:, :img_ncols - 1, :])\n",
        "    b = K.square(\n",
        "        x[:, :img_nrows - 1, :img_ncols - 1, :] - x[:, :img_nrows - 1, 1:, :])\n",
        "    return K.sum(K.pow(a + b, 1.25))\n"
      ],
      "execution_count": 0,
      "outputs": []
    },
    {
      "cell_type": "code",
      "metadata": {
        "id": "-65vcinbvTZ0",
        "colab_type": "code",
        "colab": {}
      },
      "source": [
        "# Armamos la loss total\n",
        "loss = K.variable(0.0)\n",
        "layer_features = outputs_dict['block5_conv2']\n",
        "base_image_features = layer_features[0, :, :, :]\n",
        "combination_features = layer_features[2, :, :, :]\n",
        "loss = loss + content_weight * content_loss(base_image_features,\n",
        "                                            combination_features)\n",
        "\n",
        "feature_layers = ['block1_conv1', 'block2_conv1',\n",
        "                  'block3_conv1', 'block4_conv1',\n",
        "                  'block5_conv1']\n",
        "for layer_name in feature_layers:\n",
        "    layer_features = outputs_dict[layer_name]\n",
        "    style_reference_features = layer_features[1, :, :, :] \n",
        "    combination_features = layer_features[2, :, :, :]\n",
        "    sl = style_loss(style_reference_features, combination_features)\n",
        "    loss = loss + (style_weight / len(feature_layers)) * sl\n",
        "loss = loss + total_variation_weight * total_variation_loss(combination_image)"
      ],
      "execution_count": 0,
      "outputs": []
    },
    {
      "cell_type": "code",
      "metadata": {
        "id": "pbz4n1OhvV2K",
        "colab_type": "code",
        "colab": {}
      },
      "source": [
        "grads = K.gradients(loss, combination_image)\n",
        "\n",
        "outputs = [loss]\n",
        "if isinstance(grads, (list, tuple)):\n",
        "    outputs += grads\n",
        "else:\n",
        "    outputs.append(grads)\n",
        "\n",
        "f_outputs = K.function([combination_image], outputs)"
      ],
      "execution_count": 0,
      "outputs": []
    },
    {
      "cell_type": "markdown",
      "metadata": {
        "id": "1JbydbOaVcvU",
        "colab_type": "text"
      },
      "source": [
        "# 6) Explique el propósito de las siguientes tres celdas. ¿Qué hace la función fmin_l_bfgs_b? ¿En qué se diferencia con la implementación del paper? ¿Se puede utilizar alguna alternativa?\n",
        "\n",
        "Respuesta:"
      ]
    },
    {
      "cell_type": "markdown",
      "metadata": {
        "id": "ckFbtlETeMU1",
        "colab_type": "text"
      },
      "source": [
        "En las primeras 2 se define una clase Evaluator que contendrá por cada iteración el valor total de la loss y el gradiente de la función de loss.\n",
        "\n",
        "En la última celda se itera utilizando la función fmin_l_bfgs_b (que es un optimizador de funciones) para minimizar la función de loss.  Esta función toma como parametros la función objetivo y el gradiente de dicha función.\n",
        "\n",
        "Con los valores obtenidos se arma la imagen combinada y se guarda a archivo.\n",
        "\n",
        "Se podría utilizar otro algoritmo de optimización para obtener el mínimo de la función de loss, por ejemplo, gradient descent.\n",
        "\n",
        "En el paper original no se implementa una total variation loss y no se habla de que algoritmo se utiliza para minimizar la loss, aunque, si sugiere el uso de standard back propagation.  Esto puede sugerir utilizar gradient descent."
      ]
    },
    {
      "cell_type": "code",
      "metadata": {
        "id": "zVE1_qemvZeN",
        "colab_type": "code",
        "colab": {}
      },
      "source": [
        "def eval_loss_and_grads(x):\n",
        "    x = x.reshape((1, img_nrows, img_ncols, 3))\n",
        "    outs = f_outputs([x])\n",
        "    loss_value = outs[0]\n",
        "    if len(outs[1:]) == 1:\n",
        "        grad_values = outs[1].flatten().astype('float64')\n",
        "    else:\n",
        "        grad_values = np.array(outs[1:]).flatten().astype('float64')\n",
        "    return loss_value, grad_values\n",
        "\n",
        "# this Evaluator class makes it possible\n",
        "# to compute loss and gradients in one pass\n",
        "# while retrieving them via two separate functions,\n",
        "# \"loss\" and \"grads\". This is done because scipy.optimize\n",
        "# requires separate functions for loss and gradients,\n",
        "# but computing them separately would be inefficient."
      ],
      "execution_count": 0,
      "outputs": []
    },
    {
      "cell_type": "code",
      "metadata": {
        "id": "Qbl9roIgvdb1",
        "colab_type": "code",
        "colab": {}
      },
      "source": [
        "class Evaluator(object):\n",
        "\n",
        "    def __init__(self):\n",
        "        self.loss_value = None\n",
        "        self.grads_values = None\n",
        "\n",
        "    def loss(self, x):\n",
        "        assert self.loss_value is None\n",
        "        loss_value, grad_values = eval_loss_and_grads(x)\n",
        "        self.loss_value = loss_value\n",
        "        self.grad_values = grad_values\n",
        "        return self.loss_value\n",
        "\n",
        "    def grads(self, x):\n",
        "        assert self.loss_value is not None\n",
        "        grad_values = np.copy(self.grad_values)\n",
        "        self.loss_value = None\n",
        "        self.grad_values = None\n",
        "        return grad_values"
      ],
      "execution_count": 0,
      "outputs": []
    },
    {
      "cell_type": "markdown",
      "metadata": {
        "id": "Sb0yOEl-WOE6",
        "colab_type": "text"
      },
      "source": [
        "# 7) Ejecute la siguiente celda y observe las imágenes de salida en cada iteración."
      ]
    },
    {
      "cell_type": "code",
      "metadata": {
        "id": "n31YBwCVvhAI",
        "colab_type": "code",
        "outputId": "2e58e092-1f1f-4741-e60c-8f8e5bad0798",
        "colab": {
          "base_uri": "https://localhost:8080/",
          "height": 1000
        }
      },
      "source": [
        "evaluator = Evaluator()\n",
        "\n",
        "# run scipy-based optimization (L-BFGS) over the pixels of the generated image\n",
        "# so as to minimize the neural style loss\n",
        "x = preprocess_image(base_image_path)\n",
        "\n",
        "for i in range(iterations):\n",
        "    print('Start of iteration', i)\n",
        "    start_time = time.time()\n",
        "    x, min_val, info = fmin_l_bfgs_b(evaluator.loss, x.flatten(),\n",
        "                                     fprime=evaluator.grads, maxfun=20)\n",
        "    print('Current loss value:', min_val)\n",
        "    # save current generated image\n",
        "    img = deprocess_image(x.copy())\n",
        "    fname = result_prefix / ('output_at_iteration_%d.png' % i)\n",
        "    save_img(fname, img)\n",
        "    end_time = time.time()\n",
        "    print('Image saved as', fname)\n",
        "    print('Iteration %d completed in %ds' % (i, end_time - start_time))"
      ],
      "execution_count": 45,
      "outputs": [
        {
          "output_type": "stream",
          "text": [
            "Start of iteration 0\n",
            "Current loss value: 2161642000000.0\n",
            "Image saved as /content/output/output_at_iteration_0.png\n",
            "Iteration 0 completed in 9s\n",
            "Start of iteration 1\n",
            "Current loss value: 712488850000.0\n",
            "Image saved as /content/output/output_at_iteration_1.png\n",
            "Iteration 1 completed in 9s\n",
            "Start of iteration 2\n",
            "Current loss value: 459866930000.0\n",
            "Image saved as /content/output/output_at_iteration_2.png\n",
            "Iteration 2 completed in 9s\n",
            "Start of iteration 3\n",
            "Current loss value: 345108700000.0\n",
            "Image saved as /content/output/output_at_iteration_3.png\n",
            "Iteration 3 completed in 9s\n",
            "Start of iteration 4\n",
            "Current loss value: 288215860000.0\n",
            "Image saved as /content/output/output_at_iteration_4.png\n",
            "Iteration 4 completed in 9s\n",
            "Start of iteration 5\n",
            "Current loss value: 251061290000.0\n",
            "Image saved as /content/output/output_at_iteration_5.png\n",
            "Iteration 5 completed in 9s\n",
            "Start of iteration 6\n",
            "Current loss value: 215377100000.0\n",
            "Image saved as /content/output/output_at_iteration_6.png\n",
            "Iteration 6 completed in 9s\n",
            "Start of iteration 7\n",
            "Current loss value: 191388600000.0\n",
            "Image saved as /content/output/output_at_iteration_7.png\n",
            "Iteration 7 completed in 9s\n",
            "Start of iteration 8\n",
            "Current loss value: 175328610000.0\n",
            "Image saved as /content/output/output_at_iteration_8.png\n",
            "Iteration 8 completed in 9s\n",
            "Start of iteration 9\n",
            "Current loss value: 161394560000.0\n",
            "Image saved as /content/output/output_at_iteration_9.png\n",
            "Iteration 9 completed in 9s\n",
            "Start of iteration 10\n",
            "Current loss value: 147924450000.0\n",
            "Image saved as /content/output/output_at_iteration_10.png\n",
            "Iteration 10 completed in 9s\n",
            "Start of iteration 11\n",
            "Current loss value: 136057590000.0\n",
            "Image saved as /content/output/output_at_iteration_11.png\n",
            "Iteration 11 completed in 9s\n",
            "Start of iteration 12\n",
            "Current loss value: 125933180000.0\n",
            "Image saved as /content/output/output_at_iteration_12.png\n",
            "Iteration 12 completed in 9s\n",
            "Start of iteration 13\n",
            "Current loss value: 118469526000.0\n",
            "Image saved as /content/output/output_at_iteration_13.png\n",
            "Iteration 13 completed in 9s\n",
            "Start of iteration 14\n",
            "Current loss value: 110373070000.0\n",
            "Image saved as /content/output/output_at_iteration_14.png\n",
            "Iteration 14 completed in 9s\n",
            "Start of iteration 15\n",
            "Current loss value: 104569280000.0\n",
            "Image saved as /content/output/output_at_iteration_15.png\n",
            "Iteration 15 completed in 9s\n",
            "Start of iteration 16\n",
            "Current loss value: 99336356000.0\n",
            "Image saved as /content/output/output_at_iteration_16.png\n",
            "Iteration 16 completed in 9s\n",
            "Start of iteration 17\n",
            "Current loss value: 95185660000.0\n",
            "Image saved as /content/output/output_at_iteration_17.png\n",
            "Iteration 17 completed in 9s\n",
            "Start of iteration 18\n",
            "Current loss value: 89503570000.0\n",
            "Image saved as /content/output/output_at_iteration_18.png\n",
            "Iteration 18 completed in 9s\n",
            "Start of iteration 19\n",
            "Current loss value: 85281040000.0\n",
            "Image saved as /content/output/output_at_iteration_19.png\n",
            "Iteration 19 completed in 9s\n",
            "Start of iteration 20\n",
            "Current loss value: 81665090000.0\n",
            "Image saved as /content/output/output_at_iteration_20.png\n",
            "Iteration 20 completed in 9s\n",
            "Start of iteration 21\n",
            "Current loss value: 78445410000.0\n",
            "Image saved as /content/output/output_at_iteration_21.png\n",
            "Iteration 21 completed in 9s\n",
            "Start of iteration 22\n",
            "Current loss value: 76080780000.0\n",
            "Image saved as /content/output/output_at_iteration_22.png\n",
            "Iteration 22 completed in 9s\n",
            "Start of iteration 23\n",
            "Current loss value: 72995550000.0\n",
            "Image saved as /content/output/output_at_iteration_23.png\n",
            "Iteration 23 completed in 9s\n",
            "Start of iteration 24\n",
            "Current loss value: 70436840000.0\n",
            "Image saved as /content/output/output_at_iteration_24.png\n",
            "Iteration 24 completed in 9s\n",
            "Start of iteration 25\n",
            "Current loss value: 68573630000.0\n",
            "Image saved as /content/output/output_at_iteration_25.png\n",
            "Iteration 25 completed in 9s\n",
            "Start of iteration 26\n",
            "Current loss value: 66635866000.0\n",
            "Image saved as /content/output/output_at_iteration_26.png\n",
            "Iteration 26 completed in 9s\n",
            "Start of iteration 27\n",
            "Current loss value: 65001456000.0\n",
            "Image saved as /content/output/output_at_iteration_27.png\n",
            "Iteration 27 completed in 9s\n",
            "Start of iteration 28\n",
            "Current loss value: 63275237000.0\n",
            "Image saved as /content/output/output_at_iteration_28.png\n",
            "Iteration 28 completed in 9s\n",
            "Start of iteration 29\n",
            "Current loss value: 61649940000.0\n",
            "Image saved as /content/output/output_at_iteration_29.png\n",
            "Iteration 29 completed in 10s\n",
            "Start of iteration 30\n",
            "Current loss value: 60289150000.0\n",
            "Image saved as /content/output/output_at_iteration_30.png\n",
            "Iteration 30 completed in 9s\n",
            "Start of iteration 31\n",
            "Current loss value: 59045670000.0\n",
            "Image saved as /content/output/output_at_iteration_31.png\n",
            "Iteration 31 completed in 9s\n",
            "Start of iteration 32\n",
            "Current loss value: 57792066000.0\n",
            "Image saved as /content/output/output_at_iteration_32.png\n",
            "Iteration 32 completed in 10s\n",
            "Start of iteration 33\n",
            "Current loss value: 56453435000.0\n",
            "Image saved as /content/output/output_at_iteration_33.png\n",
            "Iteration 33 completed in 10s\n",
            "Start of iteration 34\n",
            "Current loss value: 55176823000.0\n",
            "Image saved as /content/output/output_at_iteration_34.png\n",
            "Iteration 34 completed in 10s\n",
            "Start of iteration 35\n",
            "Current loss value: 53993066000.0\n",
            "Image saved as /content/output/output_at_iteration_35.png\n",
            "Iteration 35 completed in 10s\n",
            "Start of iteration 36\n",
            "Current loss value: 52805554000.0\n",
            "Image saved as /content/output/output_at_iteration_36.png\n",
            "Iteration 36 completed in 10s\n",
            "Start of iteration 37\n",
            "Current loss value: 51770376000.0\n",
            "Image saved as /content/output/output_at_iteration_37.png\n",
            "Iteration 37 completed in 9s\n",
            "Start of iteration 38\n",
            "Current loss value: 50531234000.0\n",
            "Image saved as /content/output/output_at_iteration_38.png\n",
            "Iteration 38 completed in 9s\n",
            "Start of iteration 39\n",
            "Current loss value: 49311320000.0\n",
            "Image saved as /content/output/output_at_iteration_39.png\n",
            "Iteration 39 completed in 9s\n",
            "Start of iteration 40\n",
            "Current loss value: 48280625000.0\n",
            "Image saved as /content/output/output_at_iteration_40.png\n",
            "Iteration 40 completed in 10s\n",
            "Start of iteration 41\n",
            "Current loss value: 47306550000.0\n",
            "Image saved as /content/output/output_at_iteration_41.png\n",
            "Iteration 41 completed in 9s\n",
            "Start of iteration 42\n",
            "Current loss value: 46486150000.0\n",
            "Image saved as /content/output/output_at_iteration_42.png\n",
            "Iteration 42 completed in 9s\n",
            "Start of iteration 43\n",
            "Current loss value: 45759090000.0\n",
            "Image saved as /content/output/output_at_iteration_43.png\n",
            "Iteration 43 completed in 9s\n",
            "Start of iteration 44\n",
            "Current loss value: 44905460000.0\n",
            "Image saved as /content/output/output_at_iteration_44.png\n",
            "Iteration 44 completed in 10s\n",
            "Start of iteration 45\n",
            "Current loss value: 44125660000.0\n",
            "Image saved as /content/output/output_at_iteration_45.png\n",
            "Iteration 45 completed in 10s\n",
            "Start of iteration 46\n",
            "Current loss value: 43367916000.0\n",
            "Image saved as /content/output/output_at_iteration_46.png\n",
            "Iteration 46 completed in 10s\n",
            "Start of iteration 47\n",
            "Current loss value: 42618210000.0\n",
            "Image saved as /content/output/output_at_iteration_47.png\n",
            "Iteration 47 completed in 10s\n",
            "Start of iteration 48\n",
            "Current loss value: 41885913000.0\n",
            "Image saved as /content/output/output_at_iteration_48.png\n",
            "Iteration 48 completed in 9s\n",
            "Start of iteration 49\n",
            "Current loss value: 41201177000.0\n",
            "Image saved as /content/output/output_at_iteration_49.png\n",
            "Iteration 49 completed in 9s\n",
            "Start of iteration 50\n",
            "Current loss value: 40489550000.0\n",
            "Image saved as /content/output/output_at_iteration_50.png\n",
            "Iteration 50 completed in 9s\n",
            "Start of iteration 51\n",
            "Current loss value: 39665082000.0\n",
            "Image saved as /content/output/output_at_iteration_51.png\n",
            "Iteration 51 completed in 10s\n",
            "Start of iteration 52\n",
            "Current loss value: 38935343000.0\n",
            "Image saved as /content/output/output_at_iteration_52.png\n",
            "Iteration 52 completed in 9s\n",
            "Start of iteration 53\n",
            "Current loss value: 38059385000.0\n",
            "Image saved as /content/output/output_at_iteration_53.png\n",
            "Iteration 53 completed in 10s\n",
            "Start of iteration 54\n",
            "Current loss value: 37298012000.0\n",
            "Image saved as /content/output/output_at_iteration_54.png\n",
            "Iteration 54 completed in 9s\n",
            "Start of iteration 55\n",
            "Current loss value: 36755513000.0\n",
            "Image saved as /content/output/output_at_iteration_55.png\n",
            "Iteration 55 completed in 9s\n",
            "Start of iteration 56\n",
            "Current loss value: 36264116000.0\n",
            "Image saved as /content/output/output_at_iteration_56.png\n",
            "Iteration 56 completed in 9s\n",
            "Start of iteration 57\n",
            "Current loss value: 35822477000.0\n",
            "Image saved as /content/output/output_at_iteration_57.png\n",
            "Iteration 57 completed in 9s\n",
            "Start of iteration 58\n",
            "Current loss value: 35361436000.0\n",
            "Image saved as /content/output/output_at_iteration_58.png\n",
            "Iteration 58 completed in 9s\n",
            "Start of iteration 59\n",
            "Current loss value: 34935130000.0\n",
            "Image saved as /content/output/output_at_iteration_59.png\n",
            "Iteration 59 completed in 9s\n",
            "Start of iteration 60\n",
            "Current loss value: 34438316000.0\n",
            "Image saved as /content/output/output_at_iteration_60.png\n",
            "Iteration 60 completed in 10s\n",
            "Start of iteration 61\n",
            "Current loss value: 33859279000.0\n",
            "Image saved as /content/output/output_at_iteration_61.png\n",
            "Iteration 61 completed in 9s\n",
            "Start of iteration 62\n",
            "Current loss value: 33292182000.0\n",
            "Image saved as /content/output/output_at_iteration_62.png\n",
            "Iteration 62 completed in 9s\n",
            "Start of iteration 63\n",
            "Current loss value: 32735767000.0\n",
            "Image saved as /content/output/output_at_iteration_63.png\n",
            "Iteration 63 completed in 9s\n",
            "Start of iteration 64\n",
            "Current loss value: 32206608000.0\n",
            "Image saved as /content/output/output_at_iteration_64.png\n",
            "Iteration 64 completed in 9s\n",
            "Start of iteration 65\n",
            "Current loss value: 31877853000.0\n",
            "Image saved as /content/output/output_at_iteration_65.png\n",
            "Iteration 65 completed in 9s\n",
            "Start of iteration 66\n",
            "Current loss value: 31475440000.0\n",
            "Image saved as /content/output/output_at_iteration_66.png\n",
            "Iteration 66 completed in 9s\n",
            "Start of iteration 67\n",
            "Current loss value: 31089232000.0\n",
            "Image saved as /content/output/output_at_iteration_67.png\n",
            "Iteration 67 completed in 9s\n",
            "Start of iteration 68\n",
            "Current loss value: 30711202000.0\n",
            "Image saved as /content/output/output_at_iteration_68.png\n",
            "Iteration 68 completed in 9s\n",
            "Start of iteration 69\n",
            "Current loss value: 30369792000.0\n",
            "Image saved as /content/output/output_at_iteration_69.png\n",
            "Iteration 69 completed in 10s\n",
            "Start of iteration 70\n",
            "Current loss value: 30037131000.0\n",
            "Image saved as /content/output/output_at_iteration_70.png\n",
            "Iteration 70 completed in 9s\n",
            "Start of iteration 71\n",
            "Current loss value: 29726478000.0\n",
            "Image saved as /content/output/output_at_iteration_71.png\n",
            "Iteration 71 completed in 9s\n",
            "Start of iteration 72\n",
            "Current loss value: 29417755000.0\n",
            "Image saved as /content/output/output_at_iteration_72.png\n",
            "Iteration 72 completed in 9s\n",
            "Start of iteration 73\n",
            "Current loss value: 29103346000.0\n",
            "Image saved as /content/output/output_at_iteration_73.png\n",
            "Iteration 73 completed in 10s\n",
            "Start of iteration 74\n",
            "Current loss value: 28766362000.0\n",
            "Image saved as /content/output/output_at_iteration_74.png\n",
            "Iteration 74 completed in 9s\n"
          ],
          "name": "stdout"
        }
      ]
    },
    {
      "cell_type": "markdown",
      "metadata": {
        "id": "SkiJtofbWWy1",
        "colab_type": "text"
      },
      "source": [
        "# 8) Generar imágenes para distintas combinaciones de pesos de las losses. Explicar las diferencias. (Adjuntar las imágenes generadas como archivos separados.)\n",
        "\n",
        "Respuesta:\n",
        "Se generaron los siguientes sets de imagenes\n",
        "<li>total variation 0.1 - style 1000 - content 1: Se aprecia muy definido el \n",
        "estilo en especial en el arbol de la izquierda y el cielo que parece  reemplazar a la imagen de contenido con la imagen de estilo.\n",
        "<li>tv 0.1 - style 10 - content 100: Se obtiene una imagen balanceada, se ven trazos del estilo pero sin afectar demasiado a las casas de la derecha que no están muy representadas en la imagen de estilo.\n",
        "<li>tv 0.8 - style 1000 - content 1: Produce una imagen similar a la primera pero puede apreciarse que hay un efecto de suavizado de los bordes.\n",
        "<li>tv 0.1 - style 100 - content 1: Se obtiene una imagen balanceada entre estilo y contenido aunque hay ciertos objetos que ya no se aprecian demasiado (personas sentadas al borde del muelle).\n",
        "\n",
        "# 9) Cambiar las imágenes de contenido y estilo por unas elegidas por usted. Adjuntar el resultado.\n",
        "\n",
        "Respuesta:"
      ]
    }
  ]
}